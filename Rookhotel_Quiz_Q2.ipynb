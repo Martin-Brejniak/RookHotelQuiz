{
 "cells": [
  {
   "cell_type": "code",
   "execution_count": 23,
   "id": "840d724a",
   "metadata": {},
   "outputs": [
    {
     "name": "stdout",
     "output_type": "stream",
     "text": [
      "['cGp', 'cmW', 'cX3', 'cXB', 'ctR', 'ckN', 'PVg', 'PD4', 'PBR', 'MYM', 'MSL', 'MUk', 'MIE', 'Mgr', 'MgK', 'MKd', 'GVT', 'vNx', 'vwP', 'vV9', 'zAj', 'zO9', 'zu1', 'AcO', 'APF', 'AHl', 'ALW', 'AQ9', 'AQs', 'AQq', 'AQL', 'AQQ', 'Zcz', 'yuk', 'yh2', 'yIi', 'yau', 'yap', 'ytL', 'T7T', 'T7N', 'Tx8', 'TxE', 'Tx2', 'Tn2', 'Tn1', 'Tnf', 'T2a', 'Thu', 'NTO', 'N2e', 'N9g', 'ocd', 'oeH', 'oe0', 'oeO', 'okE', 'dH6', 'dUw', 'dUn', 'm2D', 'wtT', 'nCi', 'nCc', 'nxJ', 'nzb', 'nZq', 'ndz', 'ndA', 'nIG', 'nIv', 'VXS', 'VYw', 'VeK', 'Vel']\n",
      "[15840, 16465, 17941, 17942, 18898, 19172, 20512, 20626, 20758, 25736, 25893, 26039, 26134, 26345, 26346, 26676, 28161, 31622, 31873, 32028, 35260, 36368, 36428, 38716, 38805, 40111, 40893, 40956, 40957, 40958, 40959, 40960, 42541, 47987, 49137, 49169, 49443, 49444, 49639, 50047, 50048, 50127, 50128, 50129, 51183, 51184, 51204, 52071, 52977, 54650, 55908, 56100, 57924, 60538, 60539, 60540, 61474, 63141, 64436, 64437, 67416, 72677, 73039, 73040, 73211, 73654, 73756, 74037, 74038, 76081, 76082, 79467, 79564, 79790, 79791]\n"
     ]
    }
   ],
   "source": [
    "#Resources used: \n",
    "#https://www.indeed.com/career-advice/career-development/how-to-write-in-binary\n",
    "#https://rakhesh.com/infrastructure/notes-on-cryptography-ciphers-rsa-dsa-aes-rc4-ecc-ecdsa-sha-and-so-on/\n",
    "#\n",
    "\n",
    "import pandas as pd\n",
    "\n",
    "df = pd.read_excel(r'C:\\Users\\marti\\Documents\\Work\\Rookhotel\\EmbeddedSoftwareEngineerQuizResource.xlsx')\n",
    "listLength = len(df['Number'].tolist())\n",
    "\n",
    "numbers = df['Number'].tolist()\n",
    "functions = df['Function'].tolist()\n",
    "\n",
    "\n",
    "\n",
    "print(functions)\n",
    "print(numbers)"
   ]
  },
  {
   "cell_type": "code",
   "execution_count": null,
   "id": "54da4b38",
   "metadata": {},
   "outputs": [],
   "source": []
  }
 ],
 "metadata": {
  "kernelspec": {
   "display_name": "Python 3 (ipykernel)",
   "language": "python",
   "name": "python3"
  },
  "language_info": {
   "codemirror_mode": {
    "name": "ipython",
    "version": 3
   },
   "file_extension": ".py",
   "mimetype": "text/x-python",
   "name": "python",
   "nbconvert_exporter": "python",
   "pygments_lexer": "ipython3",
   "version": "3.9.13"
  }
 },
 "nbformat": 4,
 "nbformat_minor": 5
}
